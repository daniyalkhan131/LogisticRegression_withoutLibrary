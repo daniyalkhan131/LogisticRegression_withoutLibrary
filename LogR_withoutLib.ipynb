{
  "nbformat": 4,
  "nbformat_minor": 0,
  "metadata": {
    "colab": {
      "provenance": []
    },
    "kernelspec": {
      "name": "python3",
      "display_name": "Python 3"
    },
    "language_info": {
      "name": "python"
    }
  },
  "cells": [
    {
      "cell_type": "code",
      "execution_count": 2,
      "metadata": {
        "colab": {
          "base_uri": "https://localhost:8080/"
        },
        "id": "xTg7BuMG7fug",
        "outputId": "0bd006ad-be66-4ce5-d360-c0cf60884ce4"
      },
      "outputs": [
        {
          "output_type": "stream",
          "name": "stdout",
          "text": [
            "X values:\n",
            " [[1.  1. ]\n",
            " [1.5 0.5]\n",
            " [3.  0.5]\n",
            " [2.  2. ]\n",
            " [1.  2.5]]\n",
            "\n",
            "y values:\n",
            " [0 0 1 1 1]\n"
          ]
        }
      ],
      "source": [
        "import matplotlib.pyplot as plt\n",
        "import numpy as np\n",
        "import math\n",
        "\n",
        "X_train = np.array([[0.5, 1.5], [1,1], [1.5, 0.5], [3, 0.5], [2, 2], [1, 2.5]])\n",
        "y_train = np.array([0, 0, 0, 1, 1, 1])\n",
        "print(f\"X values:\\n {X_train[1:6]}\\n\")\n",
        "print(f\"y values:\\n {y_train[1:6]}\")"
      ]
    },
    {
      "cell_type": "code",
      "source": [
        "def sigmoid(z):\n",
        "    z=np.float128(z)\n",
        "    return 1/(1+np.exp(-z))\n",
        "\n",
        "def compute_fx_function(X,y,w,b):\n",
        "    z=np.dot(X,w)+b\n",
        "    fx=sigmoid(z)\n",
        "    \n",
        "    return fx\n",
        "\n",
        "def compute_cost_function(X,y,w,b):\n",
        "    fx=compute_fx_function(X,y,w,b)\n",
        "    cost= -y*np.log(fx)-(1-y)*np.log(1-fx)\n",
        "    return (1/len(X))*np.sum(cost)\n",
        "\n",
        "def compute_gradient1(X,y,w,b):\n",
        "    m,n = X.shape\n",
        "    \n",
        "    fx= compute_fx_function(X,y,w,b)\n",
        "    dj_dw= np.dot((fx-y),X)\n",
        "    dj_db= np.sum((fx-y))\n",
        "    dj_dw = dj_dw/m\n",
        "    dj_db = dj_db/m                                  \n",
        "        \n",
        "    return dj_db, dj_dw \n",
        "\n",
        "def descent_gradient(X,y,iters,alpha):\n",
        "    w=np.zeros(X.shape[1])\n",
        "    b=0\n",
        "    for i in range(iters):\n",
        "        dj_db,dj_dw=compute_gradient1(X,y,w,b)\n",
        "        w=w-dj_dw\n",
        "        b=b-dj_db\n",
        "\n",
        "        if i% math.ceil(iters / 10) == 0:\n",
        "            print(f\"Iteration {i:4d}: Cost {compute_cost_function(X,y,w,b)}   \")\n",
        "    return w,b"
      ],
      "metadata": {
        "id": "RidtVgLy7nec"
      },
      "execution_count": 3,
      "outputs": []
    },
    {
      "cell_type": "code",
      "source": [
        "w,b=descent_gradient(X_train,y_train,1000,0.01)"
      ],
      "metadata": {
        "colab": {
          "base_uri": "https://localhost:8080/"
        },
        "id": "0u7a9SZz72No",
        "outputId": "038566e8-73b5-4da4-ab96-64ac4e15e015"
      },
      "execution_count": 4,
      "outputs": [
        {
          "output_type": "stream",
          "name": "stdout",
          "text": [
            "Iteration    0: Cost 0.6509392587085197   \n",
            "Iteration  100: Cost 0.15714414056485548   \n",
            "Iteration  200: Cost 0.0839075183370567   \n",
            "Iteration  300: Cost 0.05669964196311891   \n",
            "Iteration  400: Cost 0.042692253080001796   \n",
            "Iteration  500: Cost 0.03419301185418616   \n",
            "Iteration  600: Cost 0.028498619247047288   \n",
            "Iteration  700: Cost 0.02442178317946854   \n",
            "Iteration  800: Cost 0.021360983701889654   \n",
            "Iteration  900: Cost 0.01897945899606158   \n"
          ]
        }
      ]
    },
    {
      "cell_type": "code",
      "source": [
        "print(w,b)"
      ],
      "metadata": {
        "colab": {
          "base_uri": "https://localhost:8080/"
        },
        "id": "6GNNaue978xt",
        "outputId": "a79a8ff6-a961-467e-8970-757a6abf569e"
      },
      "execution_count": 5,
      "outputs": [
        {
          "output_type": "stream",
          "name": "stdout",
          "text": [
            "[5.28328092 5.0802111 ] -14.228078730073309757\n"
          ]
        }
      ]
    },
    {
      "cell_type": "code",
      "source": [
        "y_pred=compute_fx_function(X_train,y_train,w,b)\n",
        "for i in y_pred:\n",
        "  if i>=0.5:\n",
        "    print(1)\n",
        "  else:\n",
        "    print(0)"
      ],
      "metadata": {
        "colab": {
          "base_uri": "https://localhost:8080/"
        },
        "id": "BzMlnTE97_p_",
        "outputId": "b3bfac89-3726-4816-8754-6985999049f6"
      },
      "execution_count": 6,
      "outputs": [
        {
          "output_type": "stream",
          "name": "stdout",
          "text": [
            "0\n",
            "0\n",
            "0\n",
            "1\n",
            "1\n",
            "1\n"
          ]
        }
      ]
    },
    {
      "cell_type": "code",
      "source": [],
      "metadata": {
        "id": "3H7eIaQg8F4O"
      },
      "execution_count": null,
      "outputs": []
    }
  ]
}